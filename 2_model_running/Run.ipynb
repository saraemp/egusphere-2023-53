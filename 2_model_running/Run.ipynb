{
 "cells": [
  {
   "cell_type": "code",
   "execution_count": null,
   "metadata": {},
   "outputs": [],
   "source": [
    "from badlands.model import Model as badlandsModel\n"
   ]
  },
  {
   "cell_type": "code",
   "execution_count": null,
   "metadata": {},
   "outputs": [],
   "source": [
    "# Initialise model\n",
    "model = badlandsModel()\n",
    "# Define the XmL input file\n",
    "model.load_xml('./xml/Delta_SL_f500Kyr_A25m_Te50.xml')\n",
    "model.run_to_time(12e6) #the model for a given time"
   ]
  },
  {
   "cell_type": "code",
   "execution_count": null,
   "metadata": {},
   "outputs": [],
   "source": [
    "#Running all the xml files in a given folder\n",
    "from badlands.model import Model as badlandsModel\n",
    "import os\n",
    "\n",
    "# Define the xmL input file\n",
    "for filename in os.listdir('./xml'):\n",
    "    print('./xml/'+filename)\n",
    "    # initialise model\n",
    "    model = badlandsModel()\n",
    "    model.load_xml('./xml/'+filename)\n",
    "    model.run_to_time(12e6) #the model for a given time"
   ]
  },
  {
   "cell_type": "code",
   "execution_count": null,
   "metadata": {},
   "outputs": [],
   "source": []
  }
 ],
 "metadata": {
  "kernelspec": {
   "display_name": "Python 3",
   "language": "python",
   "name": "python3"
  },
  "language_info": {
   "codemirror_mode": {
    "name": "ipython",
    "version": 3
   },
   "file_extension": ".py",
   "mimetype": "text/x-python",
   "name": "python",
   "nbconvert_exporter": "python",
   "pygments_lexer": "ipython3",
   "version": "3.5.3"
  },
  "vscode": {
   "interpreter": {
    "hash": "16311e5e7768a74c19d824618f94cd934499e9fa5b0a3f1426c18091a5262e3b"
   }
  }
 },
 "nbformat": 4,
 "nbformat_minor": 2
}
