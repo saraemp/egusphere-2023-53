{
 "cells": [
  {
   "cell_type": "markdown",
   "metadata": {},
   "source": [
    "# Badlands vtk stratigraphic mesh creation\n",
    "\n",
    "If the stratigraphic structure is turned on in the XmL input file, **Badlands** produces sedimentary layers Hdf5 files. The stratigraphic layers are defined on a regularly spaced grid and a layer is recorded at each layer time interval given by the user.\n",
    "\n",
    "Here we build a vtk **structured grid** based on the stratal layers that could be visualise directly in **Paraview/Visit**."
   ]
  },
  {
   "cell_type": "code",
   "execution_count": 1,
   "metadata": {},
   "outputs": [],
   "source": [
    "%matplotlib inline\n",
    "\n",
    "import numpy as np\n",
    "\n",
    "# Import badlands grid generation toolbox\n",
    "import stratalMesh as mesh\n",
    "\n",
    "# display plots in SVG format\n",
    "%config InlineBackend.figure_format = 'svg' \n",
    "\n",
    "#######\n",
    "import glob\n",
    "import numpy as np\n",
    "\n",
    "import re\n",
    "import os"
   ]
  },
  {
   "cell_type": "markdown",
   "metadata": {},
   "source": [
    "# Loading stratigraphic file\n",
    "\n",
    "First we need to load one of the stratigraphic file. The files are located in the **h5/** folder in the simulation main output folder and are named using the following convention:\n",
    "- `sed.time`T`.p`X`.hdf5`\n",
    "\n",
    "with T the display time index and X the number of the partition (used in the parallel version). In cases where you ran your simulation in parallel you will also need to give the number of CPUs used (_cpus_).\n",
    "\n",
    "To load a file you will need to give the folder name and the number of processors used in your simulation.\n",
    "\n",
    "For more information regarding the function uncomment the following line."
   ]
  },
  {
   "cell_type": "code",
   "execution_count": 2,
   "metadata": {},
   "outputs": [],
   "source": [
    "#folder = '/workspace/volume/outbdls'\n",
    "#folder = '/live/share/Delta_2020/Delta_running/IH_GH/Delta_SL_IH_NoFlex'\n",
    "folder = '/live/share/Delta_2020/Delta_running/IH_GH/Delta_SL_IH_Te50'\n",
    "\n",
    "vtkMesh = mesh.stratalMesh(folder+'/h5')\n"
   ]
  },
  {
   "cell_type": "markdown",
   "metadata": {},
   "source": [
    "Then we need to load a particular output time interval (this is the T parameter in the hdf5 file name convention).\n",
    "\n",
    "**Note**\n",
    "\n",
    "This number is not always the number of sedimentary layers for this particular time step as you could have chosen in the input file to have more than 1 sedimentary layer recorded by output interval!"
   ]
  },
  {
   "cell_type": "code",
   "execution_count": 3,
   "metadata": {},
   "outputs": [],
   "source": [
    "#It would be nice to get the number of time steps automatically\n",
    "vtkMesh.loadStratigraphy(timestep=119) #last timestep -1"
   ]
  },
  {
   "cell_type": "markdown",
   "metadata": {},
   "source": [
    "# Building the vtk unstructured grid\n",
    "\n",
    "We then build the stratigraphic mesh for the considered time interval. \n",
    "\n",
    "You need to specify the folder where you want your output to be stored.\n",
    "\n",
    "The mesh file names will have the following convention:\n",
    "\n",
    "- `stratalMesh.time`T`.vts`\n",
    "\n",
    "with T the display time index."
   ]
  },
  {
   "cell_type": "code",
   "execution_count": 4,
   "metadata": {},
   "outputs": [],
   "source": [
    "vtkMesh.buildMesh(outfolder=folder)"
   ]
  },
  {
   "cell_type": "code",
   "execution_count": 5,
   "metadata": {},
   "outputs": [],
   "source": [
    "vtkMesh = mesh.stratalMesh(folder+'/h5')"
   ]
  },
  {
   "cell_type": "code",
   "execution_count": 6,
   "metadata": {},
   "outputs": [
    {
     "name": "stdout",
     "output_type": "stream",
     "text": [
      "Number of visualisation steps created:  120\n"
     ]
    }
   ],
   "source": [
    "import glob,re\n",
    "folder2 = folder\n",
    "stepCounter = len(glob.glob1(folder2+\"/xmf/\",\"tin.time*\"))-1\n",
    "print (\"Number of visualisation steps created: \",stepCounter)"
   ]
  },
  {
   "cell_type": "code",
   "execution_count": 7,
   "metadata": {},
   "outputs": [],
   "source": [
    "pvd_file = folder+'/stratiView.pvd'\n"
   ]
  },
  {
   "cell_type": "code",
   "execution_count": 8,
   "metadata": {},
   "outputs": [
    {
     "name": "stdout",
     "output_type": "stream",
     "text": [
      "Rendering for time step 1: 100000.0 years\n",
      "Rendering for time step 2: 200000.0 years\n",
      "Rendering for time step 3: 300000.0 years\n",
      "Rendering for time step 4: 400000.0 years\n",
      "Rendering for time step 5: 500000.0 years\n",
      "Rendering for time step 6: 600000.0 years\n",
      "Rendering for time step 7: 700000.0 years\n",
      "Rendering for time step 8: 800000.0 years\n",
      "Rendering for time step 9: 900000.0 years\n",
      "Rendering for time step 10: 1000000.0 years\n",
      "Rendering for time step 11: 1100000.0 years\n",
      "Rendering for time step 12: 1200000.0 years\n",
      "Rendering for time step 13: 1300000.0 years\n",
      "Rendering for time step 14: 1400000.0 years\n",
      "Rendering for time step 15: 1500000.0 years\n",
      "Rendering for time step 16: 1600000.0 years\n",
      "Rendering for time step 17: 1700000.0 years\n",
      "Rendering for time step 18: 1800000.0 years\n",
      "Rendering for time step 19: 1900000.0 years\n",
      "Rendering for time step 20: 2000000.0 years\n",
      "Rendering for time step 21: 2100000.0 years\n",
      "Rendering for time step 22: 2200000.0 years\n",
      "Rendering for time step 23: 2300000.0 years\n",
      "Rendering for time step 24: 2400000.0 years\n",
      "Rendering for time step 25: 2500000.0 years\n",
      "Rendering for time step 26: 2600000.0 years\n",
      "Rendering for time step 27: 2700000.0 years\n",
      "Rendering for time step 28: 2800000.0 years\n",
      "Rendering for time step 29: 2900000.0 years\n",
      "Rendering for time step 30: 3000000.0 years\n",
      "Rendering for time step 31: 3100000.0 years\n",
      "Rendering for time step 32: 3200000.0 years\n",
      "Rendering for time step 33: 3300000.0 years\n",
      "Rendering for time step 34: 3400000.0 years\n",
      "Rendering for time step 35: 3500000.0 years\n",
      "Rendering for time step 36: 3600000.0 years\n",
      "Rendering for time step 37: 3700000.0 years\n",
      "Rendering for time step 38: 3800000.0 years\n",
      "Rendering for time step 39: 3900000.0 years\n",
      "Rendering for time step 40: 4000000.0 years\n",
      "Rendering for time step 41: 4100000.0 years\n",
      "Rendering for time step 42: 4200000.0 years\n",
      "Rendering for time step 43: 4300000.0 years\n",
      "Rendering for time step 44: 4400000.0 years\n",
      "Rendering for time step 45: 4500000.0 years\n",
      "Rendering for time step 46: 4600000.0 years\n",
      "Rendering for time step 47: 4700000.0 years\n",
      "Rendering for time step 48: 4800000.0 years\n",
      "Rendering for time step 49: 4900000.0 years\n",
      "Rendering for time step 50: 5000000.0 years\n",
      "Rendering for time step 51: 5100000.0 years\n",
      "Rendering for time step 52: 5200000.0 years\n",
      "Rendering for time step 53: 5300000.0 years\n",
      "Rendering for time step 54: 5400000.0 years\n",
      "Rendering for time step 55: 5500000.0 years\n",
      "Rendering for time step 56: 5600000.0 years\n",
      "Rendering for time step 57: 5700000.0 years\n",
      "Rendering for time step 58: 5800000.0 years\n",
      "Rendering for time step 59: 5900000.0 years\n",
      "Rendering for time step 60: 6000000.0 years\n",
      "Rendering for time step 61: 6100000.0 years\n",
      "Rendering for time step 62: 6200000.0 years\n",
      "Rendering for time step 63: 6300000.0 years\n",
      "Rendering for time step 64: 6400000.0 years\n",
      "Rendering for time step 65: 6500000.0 years\n",
      "Rendering for time step 66: 6600000.0 years\n",
      "Rendering for time step 67: 6700000.0 years\n",
      "Rendering for time step 68: 6800000.0 years\n",
      "Rendering for time step 69: 6900000.0 years\n",
      "Rendering for time step 70: 7000000.0 years\n",
      "Rendering for time step 71: 7100000.0 years\n",
      "Rendering for time step 72: 7200000.0 years\n",
      "Rendering for time step 73: 7300000.0 years\n",
      "Rendering for time step 74: 7400000.0 years\n",
      "Rendering for time step 75: 7500000.0 years\n",
      "Rendering for time step 76: 7600000.0 years\n",
      "Rendering for time step 77: 7700000.0 years\n",
      "Rendering for time step 78: 7800000.0 years\n",
      "Rendering for time step 79: 7900000.0 years\n",
      "Rendering for time step 80: 8000000.0 years\n",
      "Rendering for time step 81: 8100000.0 years\n",
      "Rendering for time step 82: 8200000.0 years\n",
      "Rendering for time step 83: 8300000.0 years\n",
      "Rendering for time step 84: 8400000.0 years\n",
      "Rendering for time step 85: 8500000.0 years\n",
      "Rendering for time step 86: 8600000.0 years\n",
      "Rendering for time step 87: 8700000.0 years\n",
      "Rendering for time step 88: 8800000.0 years\n",
      "Rendering for time step 89: 8900000.0 years\n",
      "Rendering for time step 90: 9000000.0 years\n",
      "Rendering for time step 91: 9100000.0 years\n",
      "Rendering for time step 92: 9200000.0 years\n",
      "Rendering for time step 93: 9300000.0 years\n",
      "Rendering for time step 94: 9400000.0 years\n",
      "Rendering for time step 95: 9500000.0 years\n",
      "Rendering for time step 96: 9600000.0 years\n",
      "Rendering for time step 97: 9700000.0 years\n",
      "Rendering for time step 98: 9800000.0 years\n",
      "Rendering for time step 99: 9900000.0 years\n",
      "Rendering for time step 100: 10000000.0 years\n",
      "Rendering for time step 101: 10100000.0 years\n",
      "Rendering for time step 102: 10200000.0 years\n",
      "Rendering for time step 103: 10300000.0 years\n",
      "Rendering for time step 104: 10400000.0 years\n",
      "Rendering for time step 105: 10500000.0 years\n",
      "Rendering for time step 106: 10600000.0 years\n",
      "Rendering for time step 107: 10700000.0 years\n",
      "Rendering for time step 108: 10800000.0 years\n",
      "Rendering for time step 109: 10900000.0 years\n",
      "Rendering for time step 110: 11000000.0 years\n",
      "Rendering for time step 111: 11100000.0 years\n",
      "Rendering for time step 112: 11200000.0 years\n",
      "Rendering for time step 113: 11300000.0 years\n",
      "Rendering for time step 114: 11400000.0 years\n",
      "Rendering for time step 115: 11500000.0 years\n",
      "Rendering for time step 116: 11600000.0 years\n",
      "Rendering for time step 117: 11700000.0 years\n",
      "Rendering for time step 118: 11800000.0 years\n",
      "Rendering for time step 119: 11900000.0 years\n"
     ]
    }
   ],
   "source": [
    "f= open(str(pvd_file),'w')\n",
    "\n",
    "f.write('<?xml version=\"1.0\"?>\\n')\n",
    "f.write('<VTKFile type=\"Collection\" version=\"0.1\"\\n')\n",
    "f.write('         byte_order=\"LittleEndian\"\\n')\n",
    "f.write('         compressor=\"vtkZLibDataCompressor\">\\n')\n",
    "f.write('  <Collection>\\n')\n",
    "\n",
    "kk = 0\n",
    "for k in range(1,stepCounter,1):#change timestep 10/50/,...\n",
    "    vtkMesh.loadStratigraphy(timestep=k)\n",
    "    vtkMesh.buildMesh(outfolder=folder+'/h5')\n",
    "    # Get the sea level history and depositional time for each stratigraphic layer\n",
    "    with open(folder+'/xmf/tin.time'+str(k)+'.xmf') as fp:\n",
    "        line = fp.readline()\n",
    "        while line:\n",
    "            if 'Time' in line:\n",
    "                val = [float(s) for s in re.findall(r'-?\\d+\\.?\\d*', line)]\n",
    "                time = val[0]\n",
    "            line = fp.readline()\n",
    "    print ('Rendering for time step '+str(k)+': '+str(time)+' years')\n",
    "    f.write('    <DataSet timestep=\"%s\" group=\"\" part=\"%d\" file=\"xmf/strat.time%d.vtm\"/>\\n'%(time,kk,kk))\n",
    "    # Create the VTM\n",
    "    vtm_file = folder+'/xmf/strat.time'+str(kk)+'.vtm'\n",
    "    fvtm= open(str(vtm_file),'w')\n",
    "    fvtm.write('<?xml version=\"1.0\"?>\\n')\n",
    "    fvtm.write('<VTKFile type=\"vtkMultiBlockDataSet\" version=\"1.0\">\\n')\n",
    "    fvtm.write(' <vtkMultiBlockDataSet>\\n')\n",
    "    fvtm.write('  <DataSet index=\"0\" name=\"\" file=\"../h5/stratalMesh.time%d.vts\"/>  \\n'%k)\n",
    "    fvtm.write(' </vtkMultiBlockDataSet>\\n')\n",
    "    fvtm.write('</VTKFile>\\n')\n",
    "    fvtm.close()\n",
    "    kk += 1\n",
    "\n",
    "\n",
    "\n",
    "f.write('  </Collection>\\n')\n",
    "f.write('</VTKFile>\\n')\n",
    "f.close()"
   ]
  },
  {
   "cell_type": "code",
   "execution_count": null,
   "metadata": {},
   "outputs": [],
   "source": []
  }
 ],
 "metadata": {
  "kernelspec": {
   "display_name": "Python 3",
   "language": "python",
   "name": "python3"
  },
  "language_info": {
   "codemirror_mode": {
    "name": "ipython",
    "version": 3
   },
   "file_extension": ".py",
   "mimetype": "text/x-python",
   "name": "python",
   "nbconvert_exporter": "python",
   "pygments_lexer": "ipython3",
   "version": "3.5.3"
  }
 },
 "nbformat": 4,
 "nbformat_minor": 1
}
